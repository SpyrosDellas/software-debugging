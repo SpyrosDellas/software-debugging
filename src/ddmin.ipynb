{
 "cells": [
  {
   "cell_type": "code",
   "execution_count": 1,
   "metadata": {},
   "outputs": [
    {
     "name": "stdout",
     "output_type": "stream",
     "text": [
      "<SELECT>fooo</SELECT> 21\n",
      "oo</SELECT> 11\n",
      "<SELECT>fo> 11\n",
      "CT>fo> 6\n",
      "<SELE> 6\n",
      "<SELECT>fo 10\n",
      "CT>fo 5\n",
      "<SELE 5\n",
      "ELECT>fo 8\n",
      "<SECT>fo 8\n",
      "<SELT>fo 8\n",
      "<SELECfo 8\n",
      "<SELECT> 8\n",
      "ELECT> 6\n",
      "<SECT> 6\n",
      "<SELT> 6\n",
      "<SELEC 6\n",
      "SELECT> 7\n",
      "<ELECT> 7\n",
      "<SLECT> 7\n",
      "<SEECT> 7\n",
      "<SELCT> 7\n",
      "<SELET> 7\n",
      "<SELEC> 7\n",
      "<SELECT 7\n",
      "SELECT> 7\n",
      "<ELECT> 7\n",
      "<SLECT> 7\n",
      "<SEECT> 7\n",
      "<SELCT> 7\n",
      "<SELET> 7\n",
      "<SELEC> 7\n",
      "<SELECT 7\n",
      "<SELECT>\n"
     ]
    }
   ],
   "source": [
    "import re\n",
    "\n",
    "def test(s):\n",
    "    print s, len(s)\n",
    "    if re.search(\"<SELECT[^>]*>\", s) >= 0:\n",
    "        return \"FAIL\"\n",
    "    else:\n",
    "        return \"PASS\"\n",
    "\n",
    "\n",
    "def ddmin(s):\n",
    "    \"\"\"Delta debugger.\n",
    "    Simplifies test cases to the absolute minimum required to cause\n",
    "    the failure.\"\"\"\n",
    "    assert test(s) == \"FAIL\"\n",
    "\n",
    "    n = 2     # Initial granularity\n",
    "    while len(s) >= 2:\n",
    "        start = 0\n",
    "        subset_length = len(s) / n\n",
    "        some_complement_is_failing = False\n",
    "\n",
    "        while start < len(s):\n",
    "            complement = s[:start] + s[start + subset_length:]\n",
    "\n",
    "            if test(complement) == \"FAIL\":\n",
    "                s = complement\n",
    "                n = max(n - 1, 2)\n",
    "                some_complement_is_failing = True\n",
    "                break\n",
    "                \n",
    "            start += subset_length\n",
    "\n",
    "        if not some_complement_is_failing:\n",
    "            if len(s) == n:\n",
    "                break\n",
    "            else:\n",
    "                n = min(n*2, len(s))\n",
    "\n",
    "    return s\n",
    "\n",
    "html_input = '<SELECT>fooo</SELECT>'\n",
    "print ddmin(html_input)"
   ]
  },
  {
   "cell_type": "code",
   "execution_count": null,
   "metadata": {
    "collapsed": true
   },
   "outputs": [],
   "source": []
  }
 ],
 "metadata": {
  "kernelspec": {
   "display_name": "Python 2",
   "language": "python",
   "name": "python2"
  },
  "language_info": {
   "codemirror_mode": {
    "name": "ipython",
    "version": 2
   },
   "file_extension": ".py",
   "mimetype": "text/x-python",
   "name": "python",
   "nbconvert_exporter": "python",
   "pygments_lexer": "ipython2",
   "version": "2.7.13"
  }
 },
 "nbformat": 4,
 "nbformat_minor": 2
}
