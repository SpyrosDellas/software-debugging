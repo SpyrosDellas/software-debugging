{
 "cells": [
  {
   "cell_type": "code",
   "execution_count": 1,
   "metadata": {},
   "outputs": [
    {
     "name": "stdout",
     "output_type": "stream",
     "text": [
      "remove_html_markup(s = '<b>foo</b>') = 'foo'\n",
      "square_root(x = 2) = 1.4142135623730951\n"
     ]
    }
   ],
   "source": [
    "# Code for recording calls\n",
    "\n",
    "import sys\n",
    "import math\n",
    "\n",
    "def remove_html_markup(s):\n",
    "    tag   = False\n",
    "    quote = False\n",
    "    out   = \"\"\n",
    "\n",
    "    for c in s:\n",
    "        if c == '<' and not quote:\n",
    "            tag = True\n",
    "        elif c == '>' and not quote:\n",
    "            tag = False\n",
    "        elif c == '\"':\n",
    "            quote = not quote\n",
    "        elif not tag:\n",
    "            out = out + c\n",
    "    return out\n",
    "    \n",
    "def square_root(x, eps = 0.00001):\n",
    "    assert x >= 0\n",
    "    y = math.sqrt(x)\n",
    "    assert abs(y * y - x) <= eps\n",
    "    return y\n",
    "\n",
    "\n",
    "def pretty_locals(local_args):\n",
    "    \"\"\"Return local_args in a format suitable for calls.\n",
    "    The 'name=value' format is necessary as we don't know the arguments ordering\n",
    "    in the function call.\"\"\"\n",
    "    ret = \"\"\n",
    "    for name, value in local_args.iteritems():\n",
    "        if ret != \"\":\n",
    "            ret = ret + \", \"\n",
    "        ret = ret + name + \" = \" + repr(value)\n",
    "    return ret\n",
    "\n",
    "\n",
    "def pretty_call(frame):\n",
    "    return (frame.f_code.co_name + \n",
    "            \"(\" + pretty_locals(frame.f_locals) + \")\")\n",
    "\n",
    "\n",
    "def traceit(frame, event, arg):\n",
    "    global calls\n",
    "    if event == \"call\":\n",
    "        print pretty_call(frame)\n",
    "        calls.append(pretty_call(frame))\n",
    "    return traceit\n",
    "\n",
    "\n",
    "# Write a function, `evaluate_calls`\n",
    "# that evaluates all calls in the CALLS\n",
    "# variable.\n",
    "# \n",
    "# The ouput should be in the form:\n",
    "#     function(args) = value\n",
    "# for each element in CALLS\n",
    "\n",
    "CALLS = [\"remove_html_markup(s = '<b>foo</b>')\", \"square_root(x = 2)\"]\n",
    "\n",
    "def evaluate_calls():\n",
    "    global CALLS\n",
    "    for call in CALLS:\n",
    "        print \"{} = {}\".format(call, repr(eval(call)))\n",
    "\n",
    "\n",
    "###\n",
    "# To test your code, run evaluate_calls and see that\n",
    "# it prints out:\n",
    "# remove_html_markup(s = '<b>foo</b>') = 'foo'\n",
    "# square_root(x = 2) = 1.4142135623730951\n",
    "\n",
    "evaluate_calls()"
   ]
  },
  {
   "cell_type": "code",
   "execution_count": null,
   "metadata": {
    "collapsed": true
   },
   "outputs": [],
   "source": []
  },
  {
   "cell_type": "code",
   "execution_count": null,
   "metadata": {
    "collapsed": true
   },
   "outputs": [],
   "source": []
  }
 ],
 "metadata": {
  "kernelspec": {
   "display_name": "Python 2",
   "language": "python",
   "name": "python2"
  },
  "language_info": {
   "codemirror_mode": {
    "name": "ipython",
    "version": 2
   },
   "file_extension": ".py",
   "mimetype": "text/x-python",
   "name": "python",
   "nbconvert_exporter": "python",
   "pygments_lexer": "ipython2",
   "version": "2.7.13"
  }
 },
 "nbformat": 4,
 "nbformat_minor": 2
}
